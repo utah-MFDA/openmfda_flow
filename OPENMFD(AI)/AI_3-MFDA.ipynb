{
 "cells": [
  {
   "cell_type": "code",
   "execution_count": 9,
   "metadata": {},
   "outputs": [
    {
     "name": "stdout",
     "output_type": "stream",
     "text": [
      "Requirement already satisfied: langchain in c:\\users\\computer\\miniconda3\\lib\\site-packages (0.2.2)\n",
      "Requirement already satisfied: PyYAML>=5.3 in c:\\users\\computer\\miniconda3\\lib\\site-packages (from langchain) (6.0.1)\n",
      "Requirement already satisfied: SQLAlchemy<3,>=1.4 in c:\\users\\computer\\miniconda3\\lib\\site-packages (from langchain) (2.0.30)\n",
      "Requirement already satisfied: aiohttp<4.0.0,>=3.8.3 in c:\\users\\computer\\miniconda3\\lib\\site-packages (from langchain) (3.9.5)\n",
      "Requirement already satisfied: langchain-core<0.3.0,>=0.2.0 in c:\\users\\computer\\miniconda3\\lib\\site-packages (from langchain) (0.2.4)\n",
      "Requirement already satisfied: langchain-text-splitters<0.3.0,>=0.2.0 in c:\\users\\computer\\miniconda3\\lib\\site-packages (from langchain) (0.2.1)\n",
      "Requirement already satisfied: langsmith<0.2.0,>=0.1.17 in c:\\users\\computer\\miniconda3\\lib\\site-packages (from langchain) (0.1.69)\n",
      "Requirement already satisfied: numpy<2,>=1 in c:\\users\\computer\\miniconda3\\lib\\site-packages (from langchain) (1.26.4)\n",
      "Requirement already satisfied: pydantic<3,>=1 in c:\\users\\computer\\miniconda3\\lib\\site-packages (from langchain) (2.7.3)\n",
      "Requirement already satisfied: requests<3,>=2 in c:\\users\\computer\\miniconda3\\lib\\site-packages (from langchain) (2.31.0)\n",
      "Requirement already satisfied: tenacity<9.0.0,>=8.1.0 in c:\\users\\computer\\miniconda3\\lib\\site-packages (from langchain) (8.3.0)\n",
      "Requirement already satisfied: aiosignal>=1.1.2 in c:\\users\\computer\\miniconda3\\lib\\site-packages (from aiohttp<4.0.0,>=3.8.3->langchain) (1.3.1)\n",
      "Requirement already satisfied: attrs>=17.3.0 in c:\\users\\computer\\miniconda3\\lib\\site-packages (from aiohttp<4.0.0,>=3.8.3->langchain) (23.2.0)\n",
      "Requirement already satisfied: frozenlist>=1.1.1 in c:\\users\\computer\\miniconda3\\lib\\site-packages (from aiohttp<4.0.0,>=3.8.3->langchain) (1.4.1)\n",
      "Requirement already satisfied: multidict<7.0,>=4.5 in c:\\users\\computer\\miniconda3\\lib\\site-packages (from aiohttp<4.0.0,>=3.8.3->langchain) (6.0.5)\n",
      "Requirement already satisfied: yarl<2.0,>=1.0 in c:\\users\\computer\\miniconda3\\lib\\site-packages (from aiohttp<4.0.0,>=3.8.3->langchain) (1.9.4)\n",
      "Requirement already satisfied: jsonpatch<2.0,>=1.33 in c:\\users\\computer\\miniconda3\\lib\\site-packages (from langchain-core<0.3.0,>=0.2.0->langchain) (1.33)\n",
      "Requirement already satisfied: packaging<24.0,>=23.2 in c:\\users\\computer\\miniconda3\\lib\\site-packages (from langchain-core<0.3.0,>=0.2.0->langchain) (23.2)\n",
      "Requirement already satisfied: orjson<4.0.0,>=3.9.14 in c:\\users\\computer\\miniconda3\\lib\\site-packages (from langsmith<0.2.0,>=0.1.17->langchain) (3.10.3)\n",
      "Requirement already satisfied: annotated-types>=0.4.0 in c:\\users\\computer\\miniconda3\\lib\\site-packages (from pydantic<3,>=1->langchain) (0.7.0)\n",
      "Requirement already satisfied: pydantic-core==2.18.4 in c:\\users\\computer\\miniconda3\\lib\\site-packages (from pydantic<3,>=1->langchain) (2.18.4)\n",
      "Requirement already satisfied: typing-extensions>=4.6.1 in c:\\users\\computer\\miniconda3\\lib\\site-packages (from pydantic<3,>=1->langchain) (4.12.1)\n",
      "Requirement already satisfied: charset-normalizer<4,>=2 in c:\\users\\computer\\miniconda3\\lib\\site-packages (from requests<3,>=2->langchain) (2.0.4)\n",
      "Requirement already satisfied: idna<4,>=2.5 in c:\\users\\computer\\miniconda3\\lib\\site-packages (from requests<3,>=2->langchain) (3.7)\n",
      "Requirement already satisfied: urllib3<3,>=1.21.1 in c:\\users\\computer\\miniconda3\\lib\\site-packages (from requests<3,>=2->langchain) (2.1.0)\n",
      "Requirement already satisfied: certifi>=2017.4.17 in c:\\users\\computer\\miniconda3\\lib\\site-packages (from requests<3,>=2->langchain) (2024.2.2)\n",
      "Requirement already satisfied: greenlet!=0.4.17 in c:\\users\\computer\\miniconda3\\lib\\site-packages (from SQLAlchemy<3,>=1.4->langchain) (3.0.3)\n",
      "Requirement already satisfied: jsonpointer>=1.9 in c:\\users\\computer\\miniconda3\\lib\\site-packages (from jsonpatch<2.0,>=1.33->langchain-core<0.3.0,>=0.2.0->langchain) (2.1)\n",
      "Note: you may need to restart the kernel to use updated packages.\n"
     ]
    }
   ],
   "source": [
    "pip install langchain"
   ]
  },
  {
   "cell_type": "code",
   "execution_count": 10,
   "metadata": {},
   "outputs": [
    {
     "name": "stdout",
     "output_type": "stream",
     "text": [
      "Requirement already satisfied: beautifulsoup4 in c:\\users\\computer\\miniconda3\\lib\\site-packages (4.12.3)\n",
      "Requirement already satisfied: soupsieve>1.2 in c:\\users\\computer\\miniconda3\\lib\\site-packages (from beautifulsoup4) (2.5)\n",
      "Note: you may need to restart the kernel to use updated packages.\n"
     ]
    }
   ],
   "source": [
    "pip install beautifulsoup4\n"
   ]
  },
  {
   "cell_type": "code",
   "execution_count": 11,
   "metadata": {},
   "outputs": [
    {
     "name": "stdout",
     "output_type": "stream",
     "text": [
      "Requirement already satisfied: pypdf in c:\\users\\computer\\miniconda3\\lib\\site-packages (4.2.0)\n",
      "Note: you may need to restart the kernel to use updated packages.\n"
     ]
    }
   ],
   "source": [
    "pip install pypdf\n"
   ]
  },
  {
   "cell_type": "code",
   "execution_count": 12,
   "metadata": {},
   "outputs": [
    {
     "name": "stdout",
     "output_type": "stream",
     "text": [
      "Requirement already satisfied: faiss-cpu in c:\\users\\computer\\miniconda3\\lib\\site-packages (1.8.0)\n",
      "Requirement already satisfied: numpy in c:\\users\\computer\\miniconda3\\lib\\site-packages (from faiss-cpu) (1.26.4)\n",
      "Note: you may need to restart the kernel to use updated packages.\n"
     ]
    }
   ],
   "source": [
    "pip install faiss-cpu"
   ]
  },
  {
   "cell_type": "code",
   "execution_count": 13,
   "metadata": {},
   "outputs": [
    {
     "ename": "SyntaxError",
     "evalue": "invalid syntax (2816510148.py, line 1)",
     "output_type": "error",
     "traceback": [
      "\u001b[1;36m  Cell \u001b[1;32mIn[13], line 1\u001b[1;36m\u001b[0m\n\u001b[1;33m    export LANGCHAIN_TRACING_V2 = true\u001b[0m\n\u001b[1;37m           ^\u001b[0m\n\u001b[1;31mSyntaxError\u001b[0m\u001b[1;31m:\u001b[0m invalid syntax\n"
     ]
    }
   ],
   "source": [
    "export LANGCHAIN_TRACING_V2 = true\n",
    "export LANGCHAIN_API_KEY= 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"
   ]
  },
  {
   "cell_type": "code",
   "execution_count": 14,
   "metadata": {},
   "outputs": [],
   "source": [
    "from langchain_community.llms import Ollama\n",
    "llm = Ollama(model=\"llama2\")"
   ]
  },
  {
   "cell_type": "code",
   "execution_count": 15,
   "metadata": {},
   "outputs": [],
   "source": [
    "from langchain_core.output_parsers import StrOutputParser\n",
    "\n",
    "output_parser = StrOutputParser()"
   ]
  },
  {
   "cell_type": "code",
   "execution_count": 16,
   "metadata": {},
   "outputs": [],
   "source": [
    "#from langchain_community.document_loaders import WebBaseLoader\n",
    "#loader = WebBaseLoader(\"https://fallout.fandom.com/wiki/Fallout:_New_Vegas\")\n",
    "from langchain_community.document_loaders import PyPDFLoader\n",
    "\n",
    "loader = PyPDFLoader(\"fluigi.pdf\")\n",
    "pages = loader.load_and_split()\n",
    "\n",
    "docs = pages\n",
    "#docs = loader.load()"
   ]
  },
  {
   "cell_type": "code",
   "execution_count": 17,
   "metadata": {},
   "outputs": [],
   "source": [
    "from langchain_community.embeddings import OllamaEmbeddings\n",
    "\n",
    "embeddings = OllamaEmbeddings()"
   ]
  },
  {
   "cell_type": "code",
   "execution_count": 18,
   "metadata": {},
   "outputs": [],
   "source": [
    "from langchain_community.vectorstores import FAISS\n",
    "from langchain_text_splitters import RecursiveCharacterTextSplitter\n",
    "\n",
    "\n",
    "text_splitter = RecursiveCharacterTextSplitter()\n",
    "documents = text_splitter.split_documents(docs)\n",
    "vector = FAISS.from_documents(documents, embeddings)"
   ]
  },
  {
   "cell_type": "code",
   "execution_count": 26,
   "metadata": {},
   "outputs": [],
   "source": [
    "from langchain_core.prompts import ChatPromptTemplate\n",
    "from langchain.chains.combine_documents import create_stuff_documents_chain\n",
    "\n",
    "prompt = ChatPromptTemplate.from_template(\"\"\"\n",
    "Develop a verilog file that repreents the netlist for a lab on chip design.\n",
    "\n",
    "Use only component calls like the following:   \n",
    "\n",
    "diffmix_25px_0 mix0 (.a_fluid(soln1), .b_fluid(soln2), .out_fluid(connect0));\n",
    "\n",
    "Use only permissible components and do not use assign statements\n",
    "\n",
    "The following is an successfull example of an implementation\n",
    "\n",
    "\n",
    "\n",
    "module chip_design(\n",
    "  input wire soln1,\n",
    "  input wire soln2,\n",
    "  output wire connect0\n",
    ");\n",
    "\n",
    "\n",
    "\n",
    "  wire dilute_soln1;\n",
    "  wire dilute_soln2;\n",
    "  wire mix_out;\n",
    "\n",
    "  serpentine_50px_0 dilute1 (\n",
    "    .in_fluid(soln1),\n",
    "    .out_fluid(dilute_soln1)\n",
    "  );\n",
    "\n",
    "  serpentine_50px_0 dilute2 (\n",
    "    .in_fluid(soln2),\n",
    "    .out_fluid(dilute_soln2)\n",
    "  );\n",
    "\n",
    "  diffmix_25px_0 mix0 (\n",
    "    .a_fluid(dilute_soln1),\n",
    "    .b_fluid(dilute_soln2),\n",
    "    .out_fluid(mix_out)\n",
    "  );\n",
    "\n",
    "  serpentine_50px_0 serp0 (\n",
    "    .in_fluid(mix_out),\n",
    "    .out_fluid(connect0)\n",
    "  );\n",
    "\n",
    "endmodule\n",
    "In this updated code, the soln1 and soln2 inputs are first passed through the serpentine_50px_0 components (dilute1 and dilute2) to reduce their concentrations by 1/2. The diluted solutions are then mixed using the diffmix_25px_0 component (mix0). Finally, the mixed solution is passed through another serpentine_50px_0 component (serp0) to further reduce its concentration by 1/2 before being output as connect0.\n",
    "\n",
    "The following context may help: \n",
    "\n",
    "<context>\n",
    "{context}\n",
    "</context>\n",
    "\n",
    "Question: {input}\"\"\"\n",
    ")\n",
    "\n",
    "document_chain = create_stuff_documents_chain(llm, prompt)"
   ]
  },
  {
   "cell_type": "code",
   "execution_count": 21,
   "metadata": {},
   "outputs": [],
   "source": [
    "from langchain.chains import create_retrieval_chain\n",
    "\n",
    "retriever = vector.as_retriever()\n",
    "retrieval_chain = create_retrieval_chain(retriever, document_chain)"
   ]
  },
  {
   "cell_type": "code",
   "execution_count": 27,
   "metadata": {},
   "outputs": [
    {
     "name": "stdout",
     "output_type": "stream",
     "text": [
      "input_variables=['context', 'input'] messages=[HumanMessagePromptTemplate(prompt=PromptTemplate(input_variables=['context', 'input'], template='\\nDevelop a verilog file that repreents the netlist for a lab on chip design.\\n\\nUse only component calls like the following:   \\n\\ndiffmix_25px_0 mix0 (.a_fluid(soln1), .b_fluid(soln2), .out_fluid(connect0));\\n\\nUse only permissible components and do not use assign statements\\n\\nThe following is an successfull example of an implementation\\n\\n\\n\\nmodule chip_design(\\n  input wire soln1,\\n  input wire soln2,\\n  output wire connect0\\n);\\n\\n\\n\\n  wire dilute_soln1;\\n  wire dilute_soln2;\\n  wire mix_out;\\n\\n  serpentine_50px_0 dilute1 (\\n    .in_fluid(soln1),\\n    .out_fluid(dilute_soln1)\\n  );\\n\\n  serpentine_50px_0 dilute2 (\\n    .in_fluid(soln2),\\n    .out_fluid(dilute_soln2)\\n  );\\n\\n  diffmix_25px_0 mix0 (\\n    .a_fluid(dilute_soln1),\\n    .b_fluid(dilute_soln2),\\n    .out_fluid(mix_out)\\n  );\\n\\n  serpentine_50px_0 serp0 (\\n    .in_fluid(mix_out),\\n    .out_fluid(connect0)\\n  );\\n\\nendmodule\\nIn this updated code, the soln1 and soln2 inputs are first passed through the serpentine_50px_0 components (dilute1 and dilute2) to reduce their concentrations by 1/2. The diluted solutions are then mixed using the diffmix_25px_0 component (mix0). Finally, the mixed solution is passed through another serpentine_50px_0 component (serp0) to further reduce its concentration by 1/2 before being output as connect0.\\n\\nThe following context may help: \\n\\n<context>\\n{context}\\n</context>\\n\\nQuestion: {input}'))]\n",
      "Sure! Here are three different microfluidic input mixers that can be designed using the Fluigi platform:\n",
      "\n",
      "Input Mixer 1: Binary Tree-Based Multiplexing\n",
      "--------------------------------------------------\n",
      "\n",
      "* Input ports: 4 samples\n",
      "* Output port: 1 sample\n",
      "* Valves: 2 binary trees (2^2 = 4 control lines)\n",
      "\n",
      "The first input mixer is designed using a binary tree-based multiplexing approach. The four input samples are connected to two binary trees, each containing four nodes. Each node in the binary tree represents a different input sample, and the outputs of the binary trees are combined at the output port. By using multiplexing, only 4 control lines are needed to access all four input samples.\n",
      "\n",
      "Input Mixer 2: Multiplexing with Fewer Control Lines\n",
      "---------------------------------------------------\n",
      "\n",
      "* Input ports: 8 samples\n",
      "* Output port: 1 sample\n",
      "* Valves: 3 control lines (3^2 = 9 control lines)\n",
      "\n",
      "The second input mixer is designed using a multiplexing approach with fewer control lines. The eight input samples are connected to three control lines, which are used to selectively route the inputs to the output port. This design requires 9 control lines to access all 8 input samples.\n",
      "\n",
      "Input Mixer 3: Hierarchical Multiple-Input Multiple-Output (MIMO) Design\n",
      "-----------------------------------------------------------------------\n",
      "\n",
      "* Input ports: 16 samples\n",
      "* Output ports: 4 outputs\n",
      "* Valves: hierarchical MIMO design (2^5 = 32 control lines)\n",
      "\n",
      "The third input mixer is designed using a hierarchical multiple-input multiple-output (MIMO) approach. The 16 input samples are connected to a hierarchy of multiplexers, each containing five nodes. The output of each node in the hierarchy is routed to one of the four output ports. By using a hierarchical MIMO design, only 32 control lines are needed to access all 16 input samples and route the outputs to the appropriate destinations.\n",
      "\n",
      "In each of these designs, the valves are placed strategically to minimize the number of control lines required to access the inputs. By using multiplexing techniques, the number of control lines can be significantly reduced, making the design more efficient and scalable for larger input numbers.\n"
     ]
    }
   ],
   "source": [
    "response = retrieval_chain.invoke({\"input\": \"Could you build me three input mixer\"})\n",
    "print(prompt)\n",
    "\n",
    "print(response[\"answer\"])\n"
   ]
  }
 ],
 "metadata": {
  "kernelspec": {
   "display_name": "base",
   "language": "python",
   "name": "python3"
  },
  "language_info": {
   "codemirror_mode": {
    "name": "ipython",
    "version": 3
   },
   "file_extension": ".py",
   "mimetype": "text/x-python",
   "name": "python",
   "nbconvert_exporter": "python",
   "pygments_lexer": "ipython3",
   "version": "3.12.3"
  }
 },
 "nbformat": 4,
 "nbformat_minor": 2
}
