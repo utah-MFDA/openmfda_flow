{
 "cells": [
  {
   "cell_type": "code",
   "execution_count": 1,
   "id": "f8518583",
   "metadata": {},
   "outputs": [],
   "source": [
    "verilog_file = \"demo.v\"\n",
    "design_name = \"demo\"\n",
    "platform = \"mfda_30px\"\n",
    "pins = [[None for i in range(0,8)] for j in range(0,4)]\n",
    "\n",
    "pins[0][1] = \"soln1\"\n",
    "pins[0][2] = \"soln2\"\n",
    "pins[0][3] = \"soln3\"\n",
    "pins[3][6] = \"out\"\n",
    "\n"
   ]
  },
  {
   "cell_type": "code",
   "execution_count": 2,
   "id": "43a87155",
   "metadata": {},
   "outputs": [
    {
     "name": "stdout",
     "output_type": "stream",
     "text": [
      "Copy design netlist\n",
      "Writing pin constraints\n",
      "Writing SDC constraints\n",
      "Writing makefile configuration\n",
      "Writing SCAD configuration\n",
      "Done\n"
     ]
    }
   ],
   "source": [
    "from openmfda_flow import *\n",
    "generate_config(verilog_file, design_name, pin_names=pins, platform=platform)"
   ]
  },
  {
   "cell_type": "code",
   "execution_count": 3,
   "id": "fa656efc",
   "metadata": {},
   "outputs": [
    {
     "name": "stdout",
     "output_type": "stream",
     "text": [
      "/mnt/nas/users/snelgrov/mfda/openmfda\n"
     ]
    },
    {
     "name": "stderr",
     "output_type": "stream",
     "text": [
      "Makefile:44: *** missing separator.  Stop.\n"
     ]
    },
    {
     "ename": "CalledProcessError",
     "evalue": "Command '['make', '-e', 'DESIGN=demo', '-e', 'PLATFORM=mfda_30px']' returned non-zero exit status 2.",
     "output_type": "error",
     "traceback": [
      "\u001b[0;31m---------------------------------------------------------------------------\u001b[0m",
      "\u001b[0;31mCalledProcessError\u001b[0m                        Traceback (most recent call last)",
      "\u001b[0;32m/tmp/ipykernel_2870508/979559314.py\u001b[0m in \u001b[0;36m<module>\u001b[0;34m\u001b[0m\n\u001b[0;32m----> 1\u001b[0;31m \u001b[0mrun_flow\u001b[0m\u001b[0;34m(\u001b[0m\u001b[0mdesign_name\u001b[0m\u001b[0;34m,\u001b[0m \u001b[0mplatform\u001b[0m\u001b[0;34m=\u001b[0m\u001b[0mplatform\u001b[0m\u001b[0;34m)\u001b[0m\u001b[0;34m\u001b[0m\u001b[0;34m\u001b[0m\u001b[0m\n\u001b[0m",
      "\u001b[0;32m/mnt/nas/users/snelgrov/mfda/openmfda/openmfda_flow.py\u001b[0m in \u001b[0;36mrun_flow\u001b[0;34m(design_name, platform)\u001b[0m\n\u001b[1;32m     38\u001b[0m                    stdout=None, stderr=None, check=True)\n\u001b[1;32m     39\u001b[0m \u001b[0;34m\u001b[0m\u001b[0m\n\u001b[0;32m---> 40\u001b[0;31m     subprocess.run([\"make\", \"-e\", f\"DESIGN={design_name}\", \"-e\", f\"PLATFORM={platform}\"],\n\u001b[0m\u001b[1;32m     41\u001b[0m                    stdout=None, stderr=None, check=True)\n\u001b[1;32m     42\u001b[0m     \u001b[0;31m# todo make archive\u001b[0m\u001b[0;34m\u001b[0m\u001b[0;34m\u001b[0m\u001b[0m\n",
      "\u001b[0;32m/usr/local/stow/python/amd64_linux26/python-3.9/lib/python3.9/subprocess.py\u001b[0m in \u001b[0;36mrun\u001b[0;34m(input, capture_output, timeout, check, *popenargs, **kwargs)\u001b[0m\n\u001b[1;32m    526\u001b[0m         \u001b[0mretcode\u001b[0m \u001b[0;34m=\u001b[0m \u001b[0mprocess\u001b[0m\u001b[0;34m.\u001b[0m\u001b[0mpoll\u001b[0m\u001b[0;34m(\u001b[0m\u001b[0;34m)\u001b[0m\u001b[0;34m\u001b[0m\u001b[0;34m\u001b[0m\u001b[0m\n\u001b[1;32m    527\u001b[0m         \u001b[0;32mif\u001b[0m \u001b[0mcheck\u001b[0m \u001b[0;32mand\u001b[0m \u001b[0mretcode\u001b[0m\u001b[0;34m:\u001b[0m\u001b[0;34m\u001b[0m\u001b[0;34m\u001b[0m\u001b[0m\n\u001b[0;32m--> 528\u001b[0;31m             raise CalledProcessError(retcode, process.args,\n\u001b[0m\u001b[1;32m    529\u001b[0m                                      output=stdout, stderr=stderr)\n\u001b[1;32m    530\u001b[0m     \u001b[0;32mreturn\u001b[0m \u001b[0mCompletedProcess\u001b[0m\u001b[0;34m(\u001b[0m\u001b[0mprocess\u001b[0m\u001b[0;34m.\u001b[0m\u001b[0margs\u001b[0m\u001b[0;34m,\u001b[0m \u001b[0mretcode\u001b[0m\u001b[0;34m,\u001b[0m \u001b[0mstdout\u001b[0m\u001b[0;34m,\u001b[0m \u001b[0mstderr\u001b[0m\u001b[0;34m)\u001b[0m\u001b[0;34m\u001b[0m\u001b[0;34m\u001b[0m\u001b[0m\n",
      "\u001b[0;31mCalledProcessError\u001b[0m: Command '['make', '-e', 'DESIGN=demo', '-e', 'PLATFORM=mfda_30px']' returned non-zero exit status 2."
     ]
    }
   ],
   "source": [
    "run_flow(design_name, platform=platform)"
   ]
  },
  {
   "cell_type": "code",
   "execution_count": null,
   "id": "e99dba76",
   "metadata": {},
   "outputs": [],
   "source": []
  },
  {
   "cell_type": "code",
   "execution_count": null,
   "id": "626eb350",
   "metadata": {},
   "outputs": [],
   "source": []
  }
 ],
 "metadata": {
  "kernelspec": {
   "display_name": "Python 3 (ipykernel)",
   "language": "python",
   "name": "python3"
  },
  "language_info": {
   "codemirror_mode": {
    "name": "ipython",
    "version": 3
   },
   "file_extension": ".py",
   "mimetype": "text/x-python",
   "name": "python",
   "nbconvert_exporter": "python",
   "pygments_lexer": "ipython3",
   "version": "3.9.7"
  }
 },
 "nbformat": 4,
 "nbformat_minor": 5
}
