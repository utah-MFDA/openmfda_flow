{
 "cells": [
  {
   "cell_type": "code",
   "execution_count": 7,
   "id": "f8518583",
   "metadata": {},
   "outputs": [],
   "source": [
    "verilog_file = \"demo.v\"\n",
    "design_name = \"demo\"\n",
    "platform = \"mfda_30px\"\n",
    "pins = [[None for i in range(0,8)] for j in range(0,4)]\n",
    "\n",
    "pins[0][1] = \"soln1\"\n",
    "pins[0][2] = \"soln2\"\n",
    "pins[0][3] = \"soln3\"\n",
    "pins[3][6] = \"out\"\n",
    "\n"
   ]
  },
  {
   "cell_type": "code",
   "execution_count": 8,
   "id": "43a87155",
   "metadata": {},
   "outputs": [
    {
     "name": "stdout",
     "output_type": "stream",
     "text": [
      "Copy design netlist\n",
      "Writing pin constraints\n",
      "Writing SDC constraints\n",
      "Writing makefile configuration\n",
      "Writing SCAD configuration\n",
      "Done\n"
     ]
    }
   ],
   "source": [
    "from openmfda_flow import *\n",
    "generate_config(verilog_file, design_name, pin_names=pins, platform=platform)"
   ]
  },
  {
   "cell_type": "code",
   "execution_count": 3,
   "id": "fa656efc",
   "metadata": {},
   "outputs": [
    {
     "name": "stdout",
     "output_type": "stream",
     "text": [
      "/mnt/nas/users/snelgrov/mfda/openmfda\n",
      "cd openroad_flow && make\n",
      "make[1]: Entering directory '/mnt/nas/users/snelgrov/mfda/openmfda/openroad_flow'\n",
      "[INFO][FLOW] Using platform directory ./platforms/mfda_30px\n",
      "(/usr/bin/time -f \"Elapsed time: %E[h:]min:sec. Average CPU: %P. Peak memory: %MKB.\" /usr/local/bin/openroad -exit -no_init  ./scripts/global_place.tcl -metrics ./logs/smart_toilet/base/2_1_place_gp.json) 2>&1 | tee ./logs/smart_toilet/base/2_1_place_gp.log\n",
      "OpenROAD v2.0-9837-gb31a3b960 \n",
      "This program is licensed under the BSD-3 license. See the LICENSE file for details.\n",
      "Components of this program may be licensed under more restrictive licenses which must be honored.\n",
      "[INFO ODB-0222] Reading LEF file: ./platforms/mfda_30px/lef/mfda_30px.tlef\n",
      "[INFO ODB-0223]     Created 19 technology layers\n",
      "[INFO ODB-0224]     Created 9 technology vias\n",
      "[INFO ODB-0226] Finished LEF file:  ./platforms/mfda_30px/lef/mfda_30px.tlef\n",
      "[INFO ODB-0222] Reading LEF file: ./platforms/mfda_30px/lef/mfda_30px_merged.lef\n",
      "[INFO ODB-0225]     Created 10 library cells\n",
      "[INFO ODB-0226] Finished LEF file:  ./platforms/mfda_30px/lef/mfda_30px_merged.lef\n",
      "[WARNING STA-0163] ./platforms/mfda_30px/lib/mfda_30px.lib line 13, default_fanout_load is 0.0.\n",
      "[INFO ODB-0127] Reading DEF file: ./results/smart_toilet/base/1_floorplan.def\n",
      "[INFO ODB-0128] Design: smart_toilet\n",
      "[INFO ODB-0130]     Created 4 pins.\n",
      "[INFO ODB-0131]     Created 8 components and 18 component-terminals.\n",
      "[INFO ODB-0133]     Created 11 nets and 18 connections.\n",
      "[INFO ODB-0134] Finished DEF file: ./results/smart_toilet/base/1_floorplan.def\n",
      "[INFO GPL-0002] DBU: 1000\n",
      "[INFO GPL-0003] SiteSize: 30000 30000\n",
      "[INFO GPL-0004] CoreAreaLxLy: 0 0\n",
      "[INFO GPL-0005] CoreAreaUxUy: 2550000 1590000\n",
      "[WARNING GPL-0134] Master serpentine_150px_0 is not marked as a BLOCK in LEF but is more than 6 rows tall.  It will be treated as a macro.\n",
      "[WARNING GPL-0134] Master serpentine_300px_2 is not marked as a BLOCK in LEF but is more than 6 rows tall.  It will be treated as a macro.\n",
      "[WARNING GPL-0134] Master serpentine_300px_2 is not marked as a BLOCK in LEF but is more than 6 rows tall.  It will be treated as a macro.\n",
      "[WARNING GPL-0134] Master serpentine_300px_2 is not marked as a BLOCK in LEF but is more than 6 rows tall.  It will be treated as a macro.\n",
      "[WARNING GPL-0134] Master serpentine_300px_0 is not marked as a BLOCK in LEF but is more than 6 rows tall.  It will be treated as a macro.\n",
      "[INFO GPL-0006] NumInstances: 8\n",
      "[INFO GPL-0007] NumPlaceInstances: 8\n",
      "[INFO GPL-0008] NumFixedInstances: 0\n",
      "[INFO GPL-0009] NumDummyInstances: 0\n",
      "[INFO GPL-0010] NumNets: 11\n",
      "[INFO GPL-0011] NumPins: 22\n",
      "[INFO GPL-0012] DieAreaLxLy: 0 0\n",
      "[INFO GPL-0013] DieAreaUxUy: 2550000 1590000\n",
      "[INFO GPL-0014] CoreAreaLxLy: 0 0\n",
      "[INFO GPL-0015] CoreAreaUxUy: 2550000 1590000\n",
      "[INFO GPL-0016] CoreArea: 4054500000000\n",
      "[INFO GPL-0017] NonPlaceInstsArea: 0\n",
      "[INFO GPL-0018] PlaceInstsArea: 831600000000\n",
      "[INFO GPL-0019] Util(%): 20.51\n",
      "[INFO GPL-0020] StdInstsArea: 30600000000\n",
      "[INFO GPL-0021] MacroInstsArea: 801000000000\n",
      "[InitialPlace]  Iter: 1 CG residual: 0.00000006 HPWL: 12244000\n",
      "[InitialPlace]  Iter: 2 CG residual: 0.00000004 HPWL: 7286088\n",
      "[InitialPlace]  Iter: 3 CG residual: 0.00000001 HPWL: 7279572\n",
      "[InitialPlace]  Iter: 4 CG residual: 0.00000005 HPWL: 7277543\n",
      "[InitialPlace]  Iter: 5 CG residual: 0.00000012 HPWL: 7278979\n",
      "[INFO GPL-0031] FillerInit: NumGCells: 8\n",
      "[INFO GPL-0032] FillerInit: NumGNets: 11\n",
      "[INFO GPL-0033] FillerInit: NumGPins: 22\n",
      "[INFO GPL-0023] TargetDensity: 1.00\n",
      "[INFO GPL-0024] AveragePlaceInstArea: 103950000000\n",
      "[INFO GPL-0025] IdealBinArea: 103950000128\n",
      "[INFO GPL-0026] IdealBinCnt: 39\n",
      "[INFO GPL-0027] TotalBinArea: 4054500000000\n",
      "[INFO GPL-0028] BinCnt: 4 4\n",
      "[INFO GPL-0029] BinSize: 637500 397500\n",
      "[INFO GPL-0030] NumBins: 16\n",
      "[NesterovSolve] Iter: 1 overflow: 0.102368 HPWL: 1624281\n",
      "[NesterovSolve] Snapshot saved at iter = 0\n",
      "[INFO GPL-0075] Routability numCall: 1 inflationIterCnt: 1 bloatIterCnt: 0\n",
      "[ERROR GRT-0076] Net soln3 not properly covered.\n",
      "Error: global_place.tcl, 62 GRT-0076\n",
      "Command exited with non-zero status 1\n",
      "Elapsed time: 0:00.12[h:]min:sec. Average CPU: 96%. Peak memory: 173332KB.\n",
      "make[1]: Leaving directory '/mnt/nas/users/snelgrov/mfda/openmfda/openroad_flow'\n"
     ]
    },
    {
     "name": "stderr",
     "output_type": "stream",
     "text": [
      "make[1]: *** [Makefile:279: results/smart_toilet/base/2_1_place_gp.def] Error 1\n",
      "make: *** [Makefile:24: or_pnr] Error 2\n"
     ]
    },
    {
     "ename": "CalledProcessError",
     "evalue": "Command '['make', '-e', 'DESIGN=demo', '-e', 'PLATFORM=mfda_30px']' returned non-zero exit status 2.",
     "output_type": "error",
     "traceback": [
      "\u001b[0;31m---------------------------------------------------------------------------\u001b[0m",
      "\u001b[0;31mCalledProcessError\u001b[0m                        Traceback (most recent call last)",
      "\u001b[0;32m/tmp/ipykernel_2148492/979559314.py\u001b[0m in \u001b[0;36m<module>\u001b[0;34m\u001b[0m\n\u001b[0;32m----> 1\u001b[0;31m \u001b[0mrun_flow\u001b[0m\u001b[0;34m(\u001b[0m\u001b[0mdesign_name\u001b[0m\u001b[0;34m,\u001b[0m \u001b[0mplatform\u001b[0m\u001b[0;34m=\u001b[0m\u001b[0mplatform\u001b[0m\u001b[0;34m)\u001b[0m\u001b[0;34m\u001b[0m\u001b[0;34m\u001b[0m\u001b[0m\n\u001b[0m",
      "\u001b[0;32m/mnt/nas/users/snelgrov/mfda/openmfda/openmfda_flow.py\u001b[0m in \u001b[0;36mrun_flow\u001b[0;34m(design_name, platform)\u001b[0m\n\u001b[1;32m     38\u001b[0m                    stdout=None, stderr=None, check=True)\n\u001b[1;32m     39\u001b[0m \u001b[0;34m\u001b[0m\u001b[0m\n\u001b[0;32m---> 40\u001b[0;31m     subprocess.run([\"make\", \"-e\", f\"DESIGN={design_name}\", \"-e\", f\"PLATFORM={platform}\"],\n\u001b[0m\u001b[1;32m     41\u001b[0m                    stdout=None, stderr=None, check=True)\n\u001b[1;32m     42\u001b[0m     \u001b[0;31m# todo make archive\u001b[0m\u001b[0;34m\u001b[0m\u001b[0;34m\u001b[0m\u001b[0m\n",
      "\u001b[0;32m/usr/local/stow/python/amd64_linux26/python-3.9/lib/python3.9/subprocess.py\u001b[0m in \u001b[0;36mrun\u001b[0;34m(input, capture_output, timeout, check, *popenargs, **kwargs)\u001b[0m\n\u001b[1;32m    526\u001b[0m         \u001b[0mretcode\u001b[0m \u001b[0;34m=\u001b[0m \u001b[0mprocess\u001b[0m\u001b[0;34m.\u001b[0m\u001b[0mpoll\u001b[0m\u001b[0;34m(\u001b[0m\u001b[0;34m)\u001b[0m\u001b[0;34m\u001b[0m\u001b[0;34m\u001b[0m\u001b[0m\n\u001b[1;32m    527\u001b[0m         \u001b[0;32mif\u001b[0m \u001b[0mcheck\u001b[0m \u001b[0;32mand\u001b[0m \u001b[0mretcode\u001b[0m\u001b[0;34m:\u001b[0m\u001b[0;34m\u001b[0m\u001b[0;34m\u001b[0m\u001b[0m\n\u001b[0;32m--> 528\u001b[0;31m             raise CalledProcessError(retcode, process.args,\n\u001b[0m\u001b[1;32m    529\u001b[0m                                      output=stdout, stderr=stderr)\n\u001b[1;32m    530\u001b[0m     \u001b[0;32mreturn\u001b[0m \u001b[0mCompletedProcess\u001b[0m\u001b[0;34m(\u001b[0m\u001b[0mprocess\u001b[0m\u001b[0;34m.\u001b[0m\u001b[0margs\u001b[0m\u001b[0;34m,\u001b[0m \u001b[0mretcode\u001b[0m\u001b[0;34m,\u001b[0m \u001b[0mstdout\u001b[0m\u001b[0;34m,\u001b[0m \u001b[0mstderr\u001b[0m\u001b[0;34m)\u001b[0m\u001b[0;34m\u001b[0m\u001b[0;34m\u001b[0m\u001b[0m\n",
      "\u001b[0;31mCalledProcessError\u001b[0m: Command '['make', '-e', 'DESIGN=demo', '-e', 'PLATFORM=mfda_30px']' returned non-zero exit status 2."
     ]
    }
   ],
   "source": [
    "run_flow(design_name, platform=platform)"
   ]
  },
  {
   "cell_type": "code",
   "execution_count": null,
   "id": "e99dba76",
   "metadata": {},
   "outputs": [],
   "source": []
  },
  {
   "cell_type": "code",
   "execution_count": null,
   "id": "626eb350",
   "metadata": {},
   "outputs": [],
   "source": []
  }
 ],
 "metadata": {
  "kernelspec": {
   "display_name": "Python 3 (ipykernel)",
   "language": "python",
   "name": "python3"
  },
  "language_info": {
   "codemirror_mode": {
    "name": "ipython",
    "version": 3
   },
   "file_extension": ".py",
   "mimetype": "text/x-python",
   "name": "python",
   "nbconvert_exporter": "python",
   "pygments_lexer": "ipython3",
   "version": "3.9.7"
  }
 },
 "nbformat": 4,
 "nbformat_minor": 5
}
